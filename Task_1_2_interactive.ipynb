{
  "cells": [
    {
      "cell_type": "markdown",
      "metadata": {
        "id": "view-in-github",
        "colab_type": "text"
      },
      "source": [
        "<a href=\"https://colab.research.google.com/github/Fredrick-Mburu/Data-Visualisation-Assessemnt-3-Task-1.2/blob/main/Task_1_2_interactive.ipynb\" target=\"_parent\"><img src=\"https://colab.research.google.com/assets/colab-badge.svg\" alt=\"Open In Colab\"/></a>"
      ]
    },
    {
      "cell_type": "markdown",
      "id": "29881609",
      "metadata": {
        "id": "29881609"
      },
      "source": [
        "**MyInteractiveUFOVisualization**"
      ]
    },
    {
      "cell_type": "code",
      "execution_count": 3,
      "id": "b252e56b",
      "metadata": {
        "id": "b252e56b",
        "outputId": "d4d3eafa-632c-4c23-a254-85f38611785a",
        "colab": {
          "base_uri": "https://localhost:8080/"
        }
      },
      "outputs": [
        {
          "output_type": "stream",
          "name": "stdout",
          "text": [
            "<class 'pandas.core.frame.DataFrame'>\n",
            "RangeIndex: 80332 entries, 0 to 80331\n",
            "Data columns (total 11 columns):\n",
            " #   Column                Non-Null Count  Dtype         \n",
            "---  ------                --------------  -----         \n",
            " 0   datetime              79638 non-null  datetime64[ns]\n",
            " 1   city                  80332 non-null  object        \n",
            " 2   state                 80332 non-null  object        \n",
            " 3   country               80332 non-null  object        \n",
            " 4   shape                 80332 non-null  object        \n",
            " 5   duration (seconds)    80329 non-null  float64       \n",
            " 6   duration (hours/min)  80332 non-null  object        \n",
            " 7   comments              80317 non-null  object        \n",
            " 8   date posted           80332 non-null  object        \n",
            " 9   latitude              80331 non-null  float64       \n",
            " 10  longitude             80332 non-null  float64       \n",
            "dtypes: datetime64[ns](1), float64(3), object(7)\n",
            "memory usage: 6.7+ MB\n",
            "None\n"
          ]
        }
      ],
      "source": [
        "import pandas as pd\n",
        "\n",
        "# Load the data\n",
        "data = pd.read_csv('/content/sample_data/scrubbed.csv', low_memory=False)\n",
        "\n",
        "# Convert 'datetime' to datetime\n",
        "data['datetime'] = pd.to_datetime(data['datetime'], errors='coerce')\n",
        "\n",
        "# Fill missing values for categorical data\n",
        "data['state'] = data['state'].fillna('Unknown')\n",
        "data['country'] = data['country'].fillna('Unknown')\n",
        "data['shape'] = data['shape'].fillna('Unknown')\n",
        "\n",
        "# Handle mixed types in 'duration (seconds)' by converting to float\n",
        "data['duration (seconds)'] = pd.to_numeric(data['duration (seconds)'], errors='coerce')\n",
        "\n",
        "# Correcting latitude data type\n",
        "data['latitude'] = pd.to_numeric(data['latitude'], errors='coerce')\n",
        "\n",
        "# Check the cleaned data\n",
        "print(data.info())\n"
      ]
    },
    {
      "cell_type": "code",
      "execution_count": 4,
      "id": "0c7b457d",
      "metadata": {
        "id": "0c7b457d",
        "outputId": "41f0a564-025e-4da9-f0bc-0c6dc26bfdbf",
        "colab": {
          "base_uri": "https://localhost:8080/"
        }
      },
      "outputs": [
        {
          "output_type": "stream",
          "name": "stderr",
          "text": [
            "<ipython-input-4-57d8141125bb>:4: DtypeWarning: Columns (5,9) have mixed types. Specify dtype option on import or set low_memory=False.\n",
            "  df = pd.read_csv('/content/sample_data/scrubbed.csv')\n"
          ]
        }
      ],
      "source": [
        "import pandas as pd\n",
        "\n",
        "# Load your DataFrame\n",
        "df = pd.read_csv('/content/sample_data/scrubbed.csv')\n",
        "\n",
        "# Function to correct datetime strings\n",
        "def correct_datetime(dt):\n",
        "    if dt.endswith(\"24:00\"):\n",
        "        dt = dt.replace(\"24:00\", \"00:00\")  # Replace \"24:00\" with \"00:00\"\n",
        "        date_part = pd.to_datetime(dt.split()[0])  # Get the date part and convert to datetime\n",
        "        corrected_datetime = date_part + pd.Timedelta(days=1)  # Add one day\n",
        "        return corrected_datetime.strftime('%m/%d/%Y %H:%M')  # Return as string in same format\n",
        "    else:\n",
        "        return dt\n",
        "\n",
        "# Apply the correction function to the datetime column\n",
        "df['datetime'] = df['datetime'].apply(correct_datetime)\n",
        "\n",
        "# Now convert to datetime type\n",
        "df['datetime'] = pd.to_datetime(df['datetime'])\n",
        "\n",
        "# Proceed with your analysis\n",
        "df['year'] = df['datetime'].dt.year\n",
        "yearly_counts = df['year'].value_counts().sort_index()\n",
        "\n",
        "# Plotting or other operations can now proceed without datetime errors\n"
      ]
    },
    {
      "cell_type": "code",
      "source": [
        "pip freeze > requirements.txt\n"
      ],
      "metadata": {
        "id": "ARmI9tImrjsR"
      },
      "id": "ARmI9tImrjsR",
      "execution_count": 5,
      "outputs": []
    },
    {
      "cell_type": "code",
      "source": [
        "pip install dash\n"
      ],
      "metadata": {
        "colab": {
          "base_uri": "https://localhost:8080/"
        },
        "id": "c_3uI9fFrxf4",
        "outputId": "424df8f0-fec7-4ebf-c75d-03d9a9fabb85"
      },
      "id": "c_3uI9fFrxf4",
      "execution_count": 7,
      "outputs": [
        {
          "output_type": "stream",
          "name": "stdout",
          "text": [
            "Collecting dash\n",
            "  Downloading dash-2.17.0-py3-none-any.whl (7.5 MB)\n",
            "\u001b[2K     \u001b[90m━━━━━━━━━━━━━━━━━━━━━━━━━━━━━━━━━━━━━━━━\u001b[0m \u001b[32m7.5/7.5 MB\u001b[0m \u001b[31m15.2 MB/s\u001b[0m eta \u001b[36m0:00:00\u001b[0m\n",
            "\u001b[?25hRequirement already satisfied: Flask<3.1,>=1.0.4 in /usr/local/lib/python3.10/dist-packages (from dash) (2.2.5)\n",
            "Requirement already satisfied: Werkzeug<3.1 in /usr/local/lib/python3.10/dist-packages (from dash) (3.0.3)\n",
            "Requirement already satisfied: plotly>=5.0.0 in /usr/local/lib/python3.10/dist-packages (from dash) (5.15.0)\n",
            "Collecting dash-html-components==2.0.0 (from dash)\n",
            "  Downloading dash_html_components-2.0.0-py3-none-any.whl (4.1 kB)\n",
            "Collecting dash-core-components==2.0.0 (from dash)\n",
            "  Downloading dash_core_components-2.0.0-py3-none-any.whl (3.8 kB)\n",
            "Collecting dash-table==5.0.0 (from dash)\n",
            "  Downloading dash_table-5.0.0-py3-none-any.whl (3.9 kB)\n",
            "Requirement already satisfied: importlib-metadata in /usr/local/lib/python3.10/dist-packages (from dash) (7.1.0)\n",
            "Requirement already satisfied: typing-extensions>=4.1.1 in /usr/local/lib/python3.10/dist-packages (from dash) (4.11.0)\n",
            "Requirement already satisfied: requests in /usr/local/lib/python3.10/dist-packages (from dash) (2.31.0)\n",
            "Collecting retrying (from dash)\n",
            "  Downloading retrying-1.3.4-py3-none-any.whl (11 kB)\n",
            "Requirement already satisfied: nest-asyncio in /usr/local/lib/python3.10/dist-packages (from dash) (1.6.0)\n",
            "Requirement already satisfied: setuptools in /usr/local/lib/python3.10/dist-packages (from dash) (67.7.2)\n",
            "Requirement already satisfied: Jinja2>=3.0 in /usr/local/lib/python3.10/dist-packages (from Flask<3.1,>=1.0.4->dash) (3.1.4)\n",
            "Requirement already satisfied: itsdangerous>=2.0 in /usr/local/lib/python3.10/dist-packages (from Flask<3.1,>=1.0.4->dash) (2.2.0)\n",
            "Requirement already satisfied: click>=8.0 in /usr/local/lib/python3.10/dist-packages (from Flask<3.1,>=1.0.4->dash) (8.1.7)\n",
            "Requirement already satisfied: tenacity>=6.2.0 in /usr/local/lib/python3.10/dist-packages (from plotly>=5.0.0->dash) (8.3.0)\n",
            "Requirement already satisfied: packaging in /usr/local/lib/python3.10/dist-packages (from plotly>=5.0.0->dash) (24.0)\n",
            "Requirement already satisfied: MarkupSafe>=2.1.1 in /usr/local/lib/python3.10/dist-packages (from Werkzeug<3.1->dash) (2.1.5)\n",
            "Requirement already satisfied: zipp>=0.5 in /usr/local/lib/python3.10/dist-packages (from importlib-metadata->dash) (3.18.1)\n",
            "Requirement already satisfied: charset-normalizer<4,>=2 in /usr/local/lib/python3.10/dist-packages (from requests->dash) (3.3.2)\n",
            "Requirement already satisfied: idna<4,>=2.5 in /usr/local/lib/python3.10/dist-packages (from requests->dash) (3.7)\n",
            "Requirement already satisfied: urllib3<3,>=1.21.1 in /usr/local/lib/python3.10/dist-packages (from requests->dash) (2.0.7)\n",
            "Requirement already satisfied: certifi>=2017.4.17 in /usr/local/lib/python3.10/dist-packages (from requests->dash) (2024.2.2)\n",
            "Requirement already satisfied: six>=1.7.0 in /usr/local/lib/python3.10/dist-packages (from retrying->dash) (1.16.0)\n",
            "Installing collected packages: dash-table, dash-html-components, dash-core-components, retrying, dash\n",
            "Successfully installed dash-2.17.0 dash-core-components-2.0.0 dash-html-components-2.0.0 dash-table-5.0.0 retrying-1.3.4\n"
          ]
        }
      ]
    },
    {
      "cell_type": "markdown",
      "source": [
        "pip install dash"
      ],
      "metadata": {
        "id": "M-MWY1yorp5I"
      },
      "id": "M-MWY1yorp5I"
    },
    {
      "cell_type": "code",
      "execution_count": 10,
      "id": "234c46b4",
      "metadata": {
        "scrolled": false,
        "id": "234c46b4",
        "outputId": "48b75ed9-3ba9-4dff-96cd-36c061cccc60",
        "colab": {
          "base_uri": "https://localhost:8080/",
          "height": 671
        }
      },
      "outputs": [
        {
          "output_type": "display_data",
          "data": {
            "text/plain": [
              "<IPython.core.display.Javascript object>"
            ],
            "application/javascript": [
              "(async (port, path, width, height, cache, element) => {\n",
              "    if (!google.colab.kernel.accessAllowed && !cache) {\n",
              "      return;\n",
              "    }\n",
              "    element.appendChild(document.createTextNode(''));\n",
              "    const url = await google.colab.kernel.proxyPort(port, {cache});\n",
              "    const iframe = document.createElement('iframe');\n",
              "    iframe.src = new URL(path, url).toString();\n",
              "    iframe.height = height;\n",
              "    iframe.width = width;\n",
              "    iframe.style.border = 0;\n",
              "    iframe.allow = [\n",
              "        'accelerometer',\n",
              "        'autoplay',\n",
              "        'camera',\n",
              "        'clipboard-read',\n",
              "        'clipboard-write',\n",
              "        'gyroscope',\n",
              "        'magnetometer',\n",
              "        'microphone',\n",
              "        'serial',\n",
              "        'usb',\n",
              "        'xr-spatial-tracking',\n",
              "    ].join('; ');\n",
              "    element.appendChild(iframe);\n",
              "  })(8052, \"/\", \"100%\", 650, false, window.element)"
            ]
          },
          "metadata": {}
        }
      ],
      "source": [
        "import pandas as pd\n",
        "import plotly.express as px\n",
        "import dash\n",
        "import dash_core_components as dcc\n",
        "import dash_html_components as html\n",
        "\n",
        "# Assuming 'df' is your DataFrame with the data loaded and columns verified\n",
        "# Load your data\n",
        "#df = pd.read_csv('path_to_your_cleaned_data.csv')  # Adjust path as necessary\n",
        "\n",
        "# Strip any trailing whitespace from the column names\n",
        "df.columns = df.columns.str.strip()\n",
        "\n",
        "# Create a more descriptive, two-line title\n",
        "title_text = (\"Exploring UFO Sightings Globally:<br>An Interactive Visualization of Locations, Shapes, \"\n",
        "              \"and Durations from 1947 to Present\")\n",
        "\n",
        "# Generate the scatter geo plot with the detailed design\n",
        "fig = px.scatter_geo(df, lat='latitude', lon='longitude', color='shape',\n",
        "                     hover_name='city', hover_data={'state': True, 'datetime': True, 'duration (seconds)': True},\n",
        "                     animation_frame='year', projection=\"natural earth\", title=title_text)\n",
        "\n",
        "# Update layout for better presentation\n",
        "fig.update_layout(\n",
        "    legend_title_text='UFO Shapes',\n",
        "    legend_orientation=\"h\",\n",
        "    legend_title_font_color=\"blue\",\n",
        "    margin={\"r\":0, \"t\":50, \"l\":0, \"b\":0},\n",
        "    geo=dict(\n",
        "        scope='world',  # Can be changed to 'north america' or other regions\n",
        "        landcolor='rgb(217, 217, 217)',\n",
        "        lakecolor='rgb(255, 255, 255)',\n",
        "        showland=True,\n",
        "        countrycolor='rgb(204, 204, 204)'\n",
        "    )\n",
        ")\n",
        "\n",
        "# Enhance interactivity with additional layout options\n",
        "fig.update_geos(\n",
        "    coastlinecolor=\"RebeccaPurple\",\n",
        "    showcountries=True,\n",
        "    countrycolor=\"RebeccaPurple\"\n",
        ")\n",
        "\n",
        "# Initialize the Dash app (replace '__name__' with the name of your app if needed)\n",
        "app = dash.Dash(__name__)\n",
        "\n",
        "# Define the layout of the app\n",
        "app.layout = html.Div([\n",
        "    dcc.Graph(figure=fig),\n",
        "    html.P(\"Explore the map to see UFO sightings across different regions and times.\")\n",
        "])\n",
        "\n",
        "# Run the server on a different port\n",
        "if __name__ == '__main__':\n",
        "    app.run_server(debug=True, port=8052)  # Use a port number that is free on your system\n"
      ]
    },
    {
      "cell_type": "code",
      "execution_count": null,
      "id": "4b3da5fc",
      "metadata": {
        "id": "4b3da5fc",
        "outputId": "a0af22df-96a8-4655-c21a-d81e7d0dec17"
      },
      "outputs": [
        {
          "name": "stdout",
          "output_type": "stream",
          "text": [
            "Note: you may need to restart the kernel to use updated packages.\n"
          ]
        }
      ],
      "source": [
        "pip freeze > requirements.txt\n"
      ]
    },
    {
      "cell_type": "code",
      "execution_count": null,
      "id": "13695923",
      "metadata": {
        "id": "13695923"
      },
      "outputs": [],
      "source": []
    }
  ],
  "metadata": {
    "kernelspec": {
      "display_name": "Python 3 (ipykernel)",
      "language": "python",
      "name": "python3"
    },
    "language_info": {
      "codemirror_mode": {
        "name": "ipython",
        "version": 3
      },
      "file_extension": ".py",
      "mimetype": "text/x-python",
      "name": "python",
      "nbconvert_exporter": "python",
      "pygments_lexer": "ipython3",
      "version": "3.11.5"
    },
    "colab": {
      "provenance": [],
      "include_colab_link": true
    }
  },
  "nbformat": 4,
  "nbformat_minor": 5
}