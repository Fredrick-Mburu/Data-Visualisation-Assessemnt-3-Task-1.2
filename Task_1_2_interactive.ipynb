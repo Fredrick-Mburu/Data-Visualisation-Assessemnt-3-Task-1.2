{
  "cells": [
    {
      "cell_type": "markdown",
      "metadata": {
        "id": "view-in-github",
        "colab_type": "text"
      },
      "source": [
        "<a href=\"https://colab.research.google.com/github/Fredrick-Mburu/Data-Visualisation-Assessemnt-3-Task-1.2/blob/main/Task_1_2_interactive.ipynb\" target=\"_parent\"><img src=\"https://colab.research.google.com/assets/colab-badge.svg\" alt=\"Open In Colab\"/></a>"
      ]
    },
    {
      "cell_type": "markdown",
      "id": "29881609",
      "metadata": {
        "id": "29881609"
      },
      "source": [
        "**MyInteractiveUFOVisualization**"
      ]
    },
    {
      "cell_type": "code",
      "execution_count": 10,
      "id": "234c46b4",
      "metadata": {
        "scrolled": false,
        "id": "234c46b4",
        "outputId": "48b75ed9-3ba9-4dff-96cd-36c061cccc60",
        "colab": {
          "base_uri": "https://localhost:8080/",
          "height": 671
        }
      },
      "outputs": [
        {
          "output_type": "display_data",
          "data": {
            "text/plain": [
              "<IPython.core.display.Javascript object>"
            ],
            "application/javascript": [
              "(async (port, path, width, height, cache, element) => {\n",
              "    if (!google.colab.kernel.accessAllowed && !cache) {\n",
              "      return;\n",
              "    }\n",
              "    element.appendChild(document.createTextNode(''));\n",
              "    const url = await google.colab.kernel.proxyPort(port, {cache});\n",
              "    const iframe = document.createElement('iframe');\n",
              "    iframe.src = new URL(path, url).toString();\n",
              "    iframe.height = height;\n",
              "    iframe.width = width;\n",
              "    iframe.style.border = 0;\n",
              "    iframe.allow = [\n",
              "        'accelerometer',\n",
              "        'autoplay',\n",
              "        'camera',\n",
              "        'clipboard-read',\n",
              "        'clipboard-write',\n",
              "        'gyroscope',\n",
              "        'magnetometer',\n",
              "        'microphone',\n",
              "        'serial',\n",
              "        'usb',\n",
              "        'xr-spatial-tracking',\n",
              "    ].join('; ');\n",
              "    element.appendChild(iframe);\n",
              "  })(8052, \"/\", \"100%\", 650, false, window.element)"
            ]
          },
          "metadata": {}
        }
      ],
      "source": [
        "import pandas as pd\n",
        "import plotly.express as px\n",
        "import dash\n",
        "import dash_core_components as dcc\n",
        "import dash_html_components as html\n",
        "\n",
        "# Assuming 'df' is your DataFrame with the data loaded and columns verified\n",
        "# Load your data\n",
        "#df = pd.read_csv('path_to_your_cleaned_data.csv')  # Adjust path as necessary\n",
        "\n",
        "# Strip any trailing whitespace from the column names\n",
        "df.columns = df.columns.str.strip()\n",
        "\n",
        "# Create a more descriptive, two-line title\n",
        "title_text = (\"Exploring UFO Sightings Globally:<br>An Interactive Visualization of Locations, Shapes, \"\n",
        "              \"and Durations from 1947 to Present\")\n",
        "\n",
        "# Generate the scatter geo plot with the detailed design\n",
        "fig = px.scatter_geo(df, lat='latitude', lon='longitude', color='shape',\n",
        "                     hover_name='city', hover_data={'state': True, 'datetime': True, 'duration (seconds)': True},\n",
        "                     animation_frame='year', projection=\"natural earth\", title=title_text)\n",
        "\n",
        "# Update layout for better presentation\n",
        "fig.update_layout(\n",
        "    legend_title_text='UFO Shapes',\n",
        "    legend_orientation=\"h\",\n",
        "    legend_title_font_color=\"blue\",\n",
        "    margin={\"r\":0, \"t\":50, \"l\":0, \"b\":0},\n",
        "    geo=dict(\n",
        "        scope='world',  # Can be changed to 'north america' or other regions\n",
        "        landcolor='rgb(217, 217, 217)',\n",
        "        lakecolor='rgb(255, 255, 255)',\n",
        "        showland=True,\n",
        "        countrycolor='rgb(204, 204, 204)'\n",
        "    )\n",
        ")\n",
        "\n",
        "# Enhance interactivity with additional layout options\n",
        "fig.update_geos(\n",
        "    coastlinecolor=\"RebeccaPurple\",\n",
        "    showcountries=True,\n",
        "    countrycolor=\"RebeccaPurple\"\n",
        ")\n",
        "\n",
        "# Initialize the Dash app (replace '__name__' with the name of your app if needed)\n",
        "app = dash.Dash(__name__)\n",
        "\n",
        "# Define the layout of the app\n",
        "app.layout = html.Div([\n",
        "    dcc.Graph(figure=fig),\n",
        "    html.P(\"Explore the map to see UFO sightings across different regions and times.\")\n",
        "])\n",
        "\n",
        "# Run the server on a different port\n",
        "if __name__ == '__main__':\n",
        "    app.run_server(debug=True, port=8052)  # Use a port number that is free on your system\n"
      ]
    },
    {
      "cell_type": "code",
      "execution_count": null,
      "id": "4b3da5fc",
      "metadata": {
        "id": "4b3da5fc",
        "outputId": "a0af22df-96a8-4655-c21a-d81e7d0dec17"
      },
      "outputs": [
        {
          "name": "stdout",
          "output_type": "stream",
          "text": [
            "Note: you may need to restart the kernel to use updated packages.\n"
          ]
        }
      ],
      "source": [
        "pip freeze > requirements.txt\n"
      ]
    },
    {
      "cell_type": "code",
      "execution_count": null,
      "id": "13695923",
      "metadata": {
        "id": "13695923"
      },
      "outputs": [],
      "source": []
    }
  ],
  "metadata": {
    "kernelspec": {
      "display_name": "Python 3 (ipykernel)",
      "language": "python",
      "name": "python3"
    },
    "language_info": {
      "codemirror_mode": {
        "name": "ipython",
        "version": 3
      },
      "file_extension": ".py",
      "mimetype": "text/x-python",
      "name": "python",
      "nbconvert_exporter": "python",
      "pygments_lexer": "ipython3",
      "version": "3.11.5"
    },
    "colab": {
      "provenance": [],
      "include_colab_link": true
    }
  },
  "nbformat": 4,
  "nbformat_minor": 5
}